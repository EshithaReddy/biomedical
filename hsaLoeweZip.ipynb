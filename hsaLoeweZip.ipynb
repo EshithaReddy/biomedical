{
  "nbformat": 4,
  "nbformat_minor": 0,
  "metadata": {
    "colab": {
      "name": "synergy.ipynb",
      "provenance": [],
      "authorship_tag": "ABX9TyOG3jFT2eufEbu6Y+Ec2Sw9",
      "include_colab_link": true
    },
    "kernelspec": {
      "name": "python3",
      "display_name": "Python 3"
    }
  },
  "cells": [
    {
      "cell_type": "markdown",
      "metadata": {
        "id": "view-in-github",
        "colab_type": "text"
      },
      "source": [
        "<a href=\"https://colab.research.google.com/github/EshithaReddy/biomedical/blob/main/hsaLoeweZip.ipynb\" target=\"_parent\"><img src=\"https://colab.research.google.com/assets/colab-badge.svg\" alt=\"Open In Colab\"/></a>"
      ]
    },
    {
      "cell_type": "code",
      "metadata": {
        "colab": {
          "base_uri": "https://localhost:8080/",
          "height": 270
        },
        "id": "8ZFCfPKWyfSw",
        "outputId": "1600f5a9-da59-4743-abfb-080093ad7038"
      },
      "source": [
        "pip install synergy\n",
        "import numpy as np\n",
        "from matplotlib import pyplot as plt\n",
        "import pandas as pd\n",
        "from synergy.utils import sham\n",
        "from synergy.single import Hill\n",
        "from synergy.combination import HSA\n",
        "from synergy.utils import plots\n",
        "\n",
        "#uploading dataset\n",
        "url = 'copied_raw_github_link'\n",
        "data = pd.read_csv(\"https://raw.githubusercontent.com/EshithaReddy/biomedical/main/synergy.csv\")\n",
        "\n",
        "#reading data\n",
        "d1 = data['conc_r']\n",
        "d2 = data['conc_c']\n",
        "E = data['inhibition']\n",
        "hsa = HSA()\n",
        "#d1 = np.asarray([0,1,1], dtype=np.float64)\n",
        "#d2 = np.asarray([1,0,1], dtype=np.float64)\n",
        "#E = np.asarray([0.5, 0.4, 0.1])\n",
        "synergy = hsa.fit(d1, d2, E)\n",
        "print(synergy)\n",
        "\n",
        "\n",
        "E0 = 1\n",
        "Emax = 0\n",
        "h = 1.\n",
        "C = 1e-1\n",
        "drug = Hill(E0=E0, Emax=Emax, h=h, C=C)\n",
        "npoints=8\n",
        "d = np.logspace(-3,0,num=npoints)\n",
        "d1, d2, E = sham(d, drug)\n",
        "\n",
        "\n",
        "synergy = hsa.fit(d1, d2, E)\n",
        "\n",
        "fig = plt.figure(figsize=(6,3))\n",
        "\n",
        "ax = fig.add_subplot(121)\n",
        "plots.plot_heatmap(d1, d2, E, ax=ax, title=\"Data\", cmap=\"viridis\")\n",
        "\n",
        "ax = fig.add_subplot(122)\n",
        "hsa.plot_heatmap(ax=ax, title=\"HSA\", center_on_zero=True)\n",
        "\n",
        "plt.tight_layout()\n",
        "plt.show()"
      ],
      "execution_count": 7,
      "outputs": [
        {
          "output_type": "stream",
          "text": [
            "[  0.           0.           0.         ... -65.44310971 -63.19183183\n",
            " -58.68647218]\n",
            "Hill(E0=1.00, Emax=0.00, h=1.00, C=1.00e-01)\n",
            "[0.001      0.0026827  0.00719686 0.01930698 0.05179475 0.13894955\n",
            " 0.37275937 1.        ]\n"
          ],
          "name": "stdout"
        },
        {
          "output_type": "display_data",
          "data": {
            "image/png": "[encoded data removed]",
            "text/plain": [
              "<Figure size 432x216 with 4 Axes>"
            ]
          },
          "metadata": {
            "tags": [],
            "needs_background": "light"
          }
        }
      ]
    },
    {
      "cell_type": "code",
      "metadata": {
        "colab": {
          "base_uri": "https://localhost:8080/",
          "height": 375
        },
        "id": "5A8oA0zN_6c6",
        "outputId": "fed88cfe-06d6-49db-9285-4f0a0da07469"
      },
      "source": [
        "import numpy as np\n",
        "from matplotlib import pyplot as plt\n",
        "\n",
        "from synergy.combination import ZIP\n",
        "from synergy.combination import MuSyC\n",
        "from synergy.single import Hill\n",
        "\n",
        "from synergy.utils import plots\n",
        "from synergy.utils.dose_tools import grid\n",
        "from synergy.utils.data_exchange import to_synergyfinder\n",
        "\n",
        "#uploading dataset\n",
        "url = 'copied_raw_github_link'\n",
        "data = pd.read_csv(\"https://raw.githubusercontent.com/EshithaReddy/biomedical/main/synergy.csv\")\n",
        "\n",
        "#reading data\n",
        "d1 = data['conc_r']\n",
        "d2 = data['conc_c']\n",
        "E = data['inhibition']\n",
        "\n",
        "E0, E1, E2, E3 = 1., 0., 0., 0.\n",
        "h1, h2 = 1., 1.\n",
        "C1, C2 = 1e-2, 1e-1\n",
        "alpha12, alpha21 = 10., 1.\n",
        "gamma12, gamma21 = 1, 1\n",
        "\n",
        "musyc = MuSyC(E0=E0, E1=E1, E2=E2, E3=E3, h1=h1, h2=h2, C1=C1, C2=C2, alpha12=alpha12, alpha21=alpha21, gamma12=gamma12, gamma21=gamma21)\n",
        "\n",
        "npoints1 = 8\n",
        "npoints2 = 10\n",
        "D1, D2 = grid(1e-4, 10, 1e-4, 10,npoints1, npoints2, include_zero=True)\n",
        "\n",
        "E = musyc.E(D1, D2)\n",
        "\n",
        "\n",
        "# Build ZIP model\n",
        "model = ZIP()\n",
        "\n",
        "#Efit = E*(1+(np.random.rand(len(D1))-0.5)/10.)\n",
        "Efit = E\n",
        "\"\"\"\n",
        "# Output data to test in synergyfinder R package\n",
        "df = to_synergyfinder(D1, D2, Efit*100)\n",
        "df.to_csv(\"synergyfinder_comparison/zip_test_data.csv\", index=None)\n",
        "\"\"\"\n",
        "synergy = model.fit(D1, D2, Efit, use_jacobian=True)\n",
        "\n",
        "print(model.drug1_model, model.drug2_model)\n",
        "\n",
        "fig = plt.figure(figsize=(7,3))\n",
        "\n",
        "ax=fig.add_subplot(121)\n",
        "musyc.plot_heatmap(D1, D2, ax=ax, title=\"Data\")\n",
        "\n",
        "ax=fig.add_subplot(122)\n",
        "model.plot_heatmap(ax=ax, title=\"ZIP\")\n",
        "\n",
        "plt.tight_layout()\n",
        "plt.show()"
      ],
      "execution_count": null,
      "outputs": [
        {
          "output_type": "stream",
          "text": [
            "/usr/local/lib/python3.6/dist-packages/synergy/single/hill.py:133: RuntimeWarning:\n",
            "\n",
            "overflow encountered in power\n",
            "\n",
            "/usr/local/lib/python3.6/dist-packages/synergy/single/hill.py:134: RuntimeWarning:\n",
            "\n",
            "overflow encountered in power\n",
            "\n"
          ],
          "name": "stderr"
        },
        {
          "output_type": "stream",
          "text": [
            "Hill(E0=1.00, Emax=0.00, h=1.00, C=1.39e-02) Hill(E0=1.00, Emax=0.01, h=1.00, C=1.67e-02)\n"
          ],
          "name": "stdout"
        },
        {
          "output_type": "display_data",
          "data": {
            "image/png": "[encoded data removed]",
            "text/plain": [
              "<Figure size 504x216 with 4 Axes>"
            ]
          },
          "metadata": {
            "tags": [],
            "needs_background": "light"
          }
        }
      ]
    },
    {
      "cell_type": "code",
      "metadata": {
        "colab": {
          "base_uri": "https://localhost:8080/",
          "height": 434
        },
        "id": "FKrR7pWeAWLt",
        "outputId": "e57ba142-643c-49cc-a503-08478d3e8371"
      },
      "source": [
        "  \n",
        "import numpy as np\n",
        "from synergy.single import Hill\n",
        "from synergy.combination import MuSyC\n",
        "from synergy.combination import Loewe\n",
        "from synergy.utils.dose_tools import grid\n",
        "\n",
        "from matplotlib import pyplot as plt\n",
        "\n",
        "#uploading dataset\n",
        "url = 'copied_raw_github_link'\n",
        "data = pd.read_csv(\"https://raw.githubusercontent.com/EshithaReddy/biomedical/main/synergy.csv\")\n",
        "\n",
        "#reading data\n",
        "d1 = data['conc_r']\n",
        "d2 = data['conc_c']\n",
        "E = data['inhibition']\n",
        "\n",
        "E0, E1, E2, E3 = 1, 0.5, 0.2, 0.1\n",
        "h1, h2 = 1., 1.\n",
        "C1, C2 = 1e-2, 1e-1\n",
        "alpha12, alpha21 = 0., 0.\n",
        "\n",
        "gamma12, gamma21 = 1., 1.\n",
        "\n",
        "model = MuSyC(E0=E0, E1=E1, E2=E2, E3=E3, h1=h1, h2=h2, C1=C1, C2=C2, alpha12=alpha12, alpha21=alpha21, gamma12=gamma12, gamma21=gamma21)\n",
        "\n",
        "model2 = MuSyC(E0=E0, E1=E1, E2=E2, E3=E3*1.5, h1=h1, h2=h2, C1=C1, C2=C2, alpha12=1, alpha21=alpha21*2, gamma12=gamma12, gamma21=gamma21)\n",
        "\n",
        "drug1 = Hill(E0=E0, Emax=E1, h=h1, C=C1)\n",
        "drug2 = Hill(E0=E0, Emax=E2, h=h2, C=C2)\n",
        "\n",
        "npoints = 8\n",
        "\n",
        "D1, D2 = grid(1e-3, 1, 1e-2, 10, npoints, npoints)\n",
        "\n",
        "E = model.E(D1, D2)\n",
        "E_2 = model2.E(D1, D2)\n",
        "\n",
        "loewe = Loewe()\n",
        "loewe2 = Loewe()\n",
        "\n",
        "loewe.fit(D1, D2, E, drug1_model=drug1, drug2_model=drug2)\n",
        "loewe2.fit(D1, D2, E_2, drug1_model=drug1, drug2_model=drug2)\n",
        "\n",
        "fig = plt.figure(figsize=(7,6))\n",
        "\n",
        "ax = fig.add_subplot(2,2,1)\n",
        "model.plot_heatmap(D1, D2, ax=ax, title=\"Dose Surface\", vmin=E3, vmax=E0)\n",
        "ax.set_xticks([])\n",
        "\n",
        "ax = fig.add_subplot(2,2,2)\n",
        "loewe.plot_heatmap(ax=ax, title=\"Loewe\", vmin=-0.01, vmax=0.01, neglog=True)\n",
        "ax.set_xticks([])\n",
        "ax.set_yticks([])\n",
        "\n",
        "ax = fig.add_subplot(2,2,3)\n",
        "model2.plot_heatmap(D1, D2, ax=ax, title=\"Dose Surface\", vmin=E3, vmax=E0)\n",
        "\n",
        "ax = fig.add_subplot(2,2,4)\n",
        "loewe2.plot_heatmap(ax=ax, title=\"Loewe\", center_on_zero=True, neglog=True)\n",
        "ax.set_yticks([])\n",
        "\n",
        "plt.tight_layout()\n",
        "plt.show()"
      ],
      "execution_count": null,
      "outputs": [
        {
          "output_type": "display_data",
          "data": {
            "image/png": "[encoded data removed]",
            "text/plain": [
              "<Figure size 504x432 with 8 Axes>"
            ]
          },
          "metadata": {
            "tags": [],
            "needs_background": "light"
          }
        }
      ]
    }
  ]
}